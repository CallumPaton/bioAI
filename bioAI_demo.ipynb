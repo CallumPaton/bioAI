{
  "cells": [
    {
      "cell_type": "markdown",
      "metadata": {
        "id": "view-in-github",
        "colab_type": "text"
      },
      "source": [
        "<a href=\"https://colab.research.google.com/github/CallumPaton/bioAI/blob/main/bioAI_demo.ipynb\" target=\"_parent\"><img src=\"https://colab.research.google.com/assets/colab-badge.svg\" alt=\"Open In Colab\"/></a>"
      ]
    },
    {
      "cell_type": "code",
      "execution_count": 26,
      "metadata": {
        "id": "yc3pXjeJ3L38"
      },
      "outputs": [],
      "source": [
        "# Libraries\n",
        "import pandas as pd\n",
        "import numpy as np\n",
        "from google.colab import drive\n",
        "import seaborn as sns \n",
        "import matplotlib.pyplot as plt # matplotlib for plotting graphs\n",
        "\n",
        "# %matplotlib inline renders plot inline on your page\n",
        "%matplotlib inline"
      ]
    },
    {
      "cell_type": "code",
      "execution_count": 27,
      "metadata": {
        "colab": {
          "base_uri": "https://localhost:8080/"
        },
        "id": "wmNC_T6d3ObG",
        "outputId": "8241515d-0cf7-4ab6-ac25-b93aca428cc6"
      },
      "outputs": [
        {
          "output_type": "stream",
          "name": "stdout",
          "text": [
            "Drive already mounted at /content/drive; to attempt to forcibly remount, call drive.mount(\"/content/drive\", force_remount=True).\n"
          ]
        }
      ],
      "source": [
        "# mount drive\n",
        "drive.mount('/content/drive')"
      ]
    },
    {
      "cell_type": "code",
      "execution_count": 28,
      "metadata": {
        "id": "eMIQeDaQ5xhZ"
      },
      "outputs": [],
      "source": [
        "# import question dataframes\n",
        "algebra = pd.read_csv('/content/drive/MyDrive/bioAI/algebra.csv')\n",
        "geometry = pd.read_csv('/content/drive/MyDrive/bioAI/geometry.csv')\n",
        "numbers = pd.read_csv('/content/drive/MyDrive/bioAI/numbers.csv')\n",
        "probability= pd.read_csv('/content/drive/MyDrive/bioAI/probability.csv')\n",
        "ratios = pd.read_csv('/content/drive/MyDrive/bioAI/ratios.csv')"
      ]
    },
    {
      "cell_type": "code",
      "execution_count": null,
      "metadata": {
        "id": "bc5NpGbA9X9f"
      },
      "outputs": [],
      "source": [
        "combined = pd.concat([algebra, geometry,numbers, probability,ratios], ignore_index =True)\n",
        "combined"
      ]
    },
    {
      "cell_type": "code",
      "execution_count": 34,
      "metadata": {
        "id": "HZioQ0nz7thZ"
      },
      "outputs": [],
      "source": [
        "def generate_initial_questions(knowledge_dict):\n",
        "  '''\n",
        "  Takes a dictionary of students current knowledge level to return appropriate\n",
        "  initial question set. \n",
        "  '''\n",
        "  initial_questions = []\n",
        "  for syllabus_area, understanding_score in knowledge_dict.items():\n",
        "    # map understanding between 0-1 to a difficulty score from 1-10\n",
        "    difficulty_level = round(understanding_score*10)\n",
        "     \n",
        "    # find closest questions to the calculated difficulty le\n",
        "    df = combined[combined['Topic']==syllabus_area]\n",
        "    closest_difficulty = min(df['Difficulty'], key=lambda x: abs(x-difficulty_level))\n",
        "    closest_question = df.loc[df['Difficulty'] == closest_difficulty].sample(n=1)\n",
        "    initial_questions.append(closest_question)\n",
        "  \n",
        "  return pd.concat(initial_questions, ignore_index =True)\n",
        "\n",
        "\n"
      ]
    },
    {
      "cell_type": "code",
      "execution_count": 37,
      "metadata": {
        "id": "R_VdRllLFhJ7"
      },
      "outputs": [],
      "source": [
        "def ask_questions(question_df):\n",
        "    '''\n",
        "    Asks the questions in the current question set and saves marks to a vector\n",
        "    '''\n",
        "      # create an empty list to store the results\n",
        "    results = []\n",
        "    # iterate over each row in the initial_questions_df dataframe\n",
        "    for index, row in question_df.iterrows():\n",
        "        # print the question\n",
        "        print(row['Question'])\n",
        "        print(f'Topic: {row[\"Topic\"]}')\n",
        "        print(f'Difficulty: {row[\"Difficulty\"]}/10')\n",
        "        # get an answer from the user using the input function\n",
        "        user_answer = input()\n",
        "        # check if the answer is correct\n",
        "        answer = row['Answer'].lower().strip('\"')\n",
        "        if user_answer.lower() == answer:\n",
        "            # if the answer is correct, add 1 to the results list\n",
        "            results.append(1)\n",
        "            print('Correct!')\n",
        "        else:\n",
        "            # if the answer is incorrect, add 0 to the results list\n",
        "            results.append(0)\n",
        "            print('Incorrect.')\n",
        "            print(f'Answer: {answer}')\n",
        "        print('') # print a blank line for formatting\n",
        "    return results\n"
      ]
    },
    {
      "cell_type": "code",
      "execution_count": 7,
      "metadata": {
        "id": "TKYdTpr9kjr_"
      },
      "outputs": [],
      "source": [
        "def fitness_function(difficulty, marks):\n",
        "  return ((11-difficulty)*0.1+(1.1-marks))/2.1"
      ]
    },
    {
      "cell_type": "code",
      "execution_count": 32,
      "metadata": {
        "id": "LrDgRsttlvHY"
      },
      "outputs": [],
      "source": [
        "def selection(fitness_scores, topics, adjustment_factor = 8):\n",
        "  '''\n",
        "  Take the fitness scores and use them to calculate the proportional selection\n",
        "  and difficulty adjustment for next generation\n",
        "  '''\n",
        "  df = pd.DataFrame({'Topic':topics.tolist()})\n",
        "  df['Old_Difficulty'] = current_generation.Difficulty.tolist()\n",
        "  df['Marks'] = results\n",
        "  df['Fitness Score'] = fitness_scores\n",
        "  # proportional selection\n",
        "  proportional_selection = np.transpose(np.array(fitness_scores)/np.sum(fitness_scores))\n",
        "  df['Selection_Probability'] = proportional_selection\n",
        "\n",
        "  # difficulty adjustment\n",
        "  adjusted_difficulties = []\n",
        "  index = 0\n",
        "\n",
        "  for score in fitness_scores:\n",
        "    # if fitness score is less than 0.5, questions get harder, else they get easier\n",
        "    # adjustment factor determines how extreme the jump is from q to q.\n",
        "    if score >= 0.5:\n",
        "      adjustment = (1 - score)*adjustment_factor\n",
        "      new_difficulty = max(current_generation.Difficulty.tolist()[index] - adjustment, 1)\n",
        "    else:\n",
        "      adjustment = score*adjustment_factor\n",
        "      new_difficulty = min(current_generation.Difficulty.tolist()[index] + adjustment, 10)\n",
        "    \n",
        "    index += 1\n",
        "    adjusted_difficulties.append(new_difficulty)\n",
        "  df['New_Difficulty'] = adjusted_difficulties\n",
        "  \n",
        "  return df"
      ]
    },
    {
      "cell_type": "code",
      "execution_count": 31,
      "metadata": {
        "id": "dh1hzGGPeoOi"
      },
      "outputs": [],
      "source": [
        "# use selection criterio to \n",
        "def generational_replacement(selection_df):\n",
        "  \"\"\"\n",
        "  Uses the selection criterion to select new question set from database\n",
        "  \"\"\"\n",
        "  copy_df = combined.copy()\n",
        "  topics = selection_df['Topic'].tolist()\n",
        "  probabilities = selection_df['Selection_Probability'].tolist()\n",
        "  difficulties = selection_df['New_Difficulty'].tolist()\n",
        "\n",
        "  # select five topics based on the selection proDbability\n",
        "  indexes = range(len(topics))\n",
        "\n",
        "  selected_indexes = np.random.choice(indexes, size=5, p=probabilities, replace=True)\n",
        "  selected_topics = [topics[i] for i in selected_indexes]\n",
        "\n",
        "  # create an empty list to store the questions\n",
        "  questions = []\n",
        "\n",
        "  # counter\n",
        "  counter = 0\n",
        "\n",
        "  # loop over the selected topics and select a question from the combined dataframe\n",
        "  for topic in selected_topics:\n",
        "    # get the correct new difficulty\n",
        "    # filter the combined dataframe based on the selected topic and new difficulty\n",
        "    filtered_df = copy_df[(copy_df['Topic'] == topic)]\n",
        "\n",
        "    closest_row_index = (filtered_df['Difficulty'] - difficulties[selected_indexes[counter]]).abs().idxmin()\n",
        "    closest_row = filtered_df.loc[closest_row_index]\n",
        "    copy_df = copy_df.drop(index = closest_row_index)\n",
        "\n",
        "    # randomly select a question from the filtered dataframe\n",
        "    selected_question = closest_row.to_frame().transpose()\n",
        "    # add the selected question to the list of questions\n",
        "    questions.append(selected_question)\n",
        "    counter += 1\n",
        "\n",
        "  # concatenate the questions into a new dataframe\n",
        "  new_question_set = pd.concat(questions, ignore_index=True)  \n",
        "  return new_question_set\n"
      ]
    },
    {
      "cell_type": "code",
      "source": [
        "import random\n",
        "def mutation(selected_questions):\n",
        "  '''\n",
        "  Takes the selected questions for the next generation and randomly swaps one\n",
        "  of the rows with another from the database.\n",
        "  '''\n",
        "  row_idx_questions = random.choice(selected_questions.index)\n",
        "  row_idx_database = random.choice(combined.index)\n",
        "  replacement = combined.loc[row_idx_database]\n",
        "\n",
        "  selected_questions.loc[row_idx_questions] = replacement\n",
        "\n",
        "  return selected_questions\n",
        "\n",
        "  #randomly choose a row "
      ],
      "metadata": {
        "id": "ClOesL_vr0_X"
      },
      "execution_count": 24,
      "outputs": []
    },
    {
      "cell_type": "code",
      "execution_count": 38,
      "metadata": {
        "colab": {
          "base_uri": "https://localhost:8080/",
          "height": 1000
        },
        "id": "UMeKeQK6JMQO",
        "outputId": "8a81805a-79dd-46ee-cc2f-a16ab4c06491"
      },
      "outputs": [
        {
          "output_type": "stream",
          "name": "stdout",
          "text": [
            "Initialised Question Set Based on Current Understanding\n",
            "-------------------------------------------------------\n",
            "         Topic  Difficulty\n",
            "0      Algebra           8\n",
            "1     Geometry           8\n",
            "2      Numbers           2\n",
            "3  Probability           5\n",
            "4       Ratios           2\n",
            "-----------------Generation 1-----------------\n",
            "Solve the equation 3x^2-9x+6=0\n",
            "Topic: Algebra\n",
            "Difficulty: 8/10\n",
            "x=2, x=4\n",
            "Incorrect.\n",
            "Answer: x = 2, x=1\n",
            "\n",
            "If a=(-4 -1) and b = (3 -1). What is the vector 2a+b?\n",
            "Topic: Geometry\n",
            "Difficulty: 8/10\n",
            "(-2 -1)\n",
            "Incorrect.\n",
            "Answer: (-5 -3)\n",
            "\n",
            "Write the following number in standard form: 0.0000415\n",
            "Topic: Numbers\n",
            "Difficulty: 2/10\n",
            "4.15x10^-5\n",
            "Correct!\n",
            "\n",
            "Faye is testing if a dice is fair. She throws it 120 times. How many times is it expected to land on 1?\n",
            "Topic: Probability\n",
            "Difficulty: 5/10\n",
            "20\n",
            "Correct!\n",
            "\n",
            "Divide £600 in the ratio 9:6:5\n",
            "Topic: Ratios\n",
            "Difficulty: 2/10\n",
            "300:200:100\n",
            "Incorrect.\n",
            "Answer: 270:180:150\n",
            "\n",
            "----CALCULATING FITNESS SCORES----\n",
            "         Topic  Old_Difficulty  Marks  Fitness Score  Selection_Probability  New_Difficulty\n",
            "0      Algebra               8      0       0.666667               0.215385        5.333333\n",
            "1     Geometry               8      0       0.666667               0.215385        5.333333\n",
            "2      Numbers               2      1       0.476190               0.153846        5.809524\n",
            "3  Probability               5      1       0.333333               0.107692        7.666667\n",
            "4       Ratios               2      0       0.952381               0.307692        1.619048\n",
            "------CREATING NEW QUESTION SET------\n",
            "---------APPLYING MUTATION---------\n",
            "-----------------Generation 2-----------------\n",
            "Calculate the area of a triangle with a base of 6cm and height of 8cm.\n",
            "Topic: Geometry\n",
            "Difficulty: 2/10\n",
            "23\n",
            "Incorrect.\n",
            "Answer: 24\n",
            "\n",
            "There are 20 students. 12 are boys. Express this as a fraction.\n",
            "Topic: Ratios\n",
            "Difficulty: 3/10\n",
            "3/5\n",
            "Correct!\n",
            "\n",
            "Expand and simplify (x+3)(2x-5)\n",
            "Topic: Algebra\n",
            "Difficulty: 5/10\n"
          ]
        },
        {
          "output_type": "error",
          "ename": "KeyboardInterrupt",
          "evalue": "ignored",
          "traceback": [
            "\u001b[0;31m---------------------------------------------------------------------------\u001b[0m",
            "\u001b[0;31mKeyboardInterrupt\u001b[0m                         Traceback (most recent call last)",
            "\u001b[0;32m<ipython-input-38-690df6fbb087>\u001b[0m in \u001b[0;36m<cell line: 20>\u001b[0;34m()\u001b[0m\n\u001b[1;32m     20\u001b[0m   \u001b[0mprint\u001b[0m\u001b[0;34m(\u001b[0m\u001b[0;34mf'-----------------Generation {generation_count}-----------------'\u001b[0m\u001b[0;34m)\u001b[0m\u001b[0;34m\u001b[0m\u001b[0;34m\u001b[0m\u001b[0m\n\u001b[1;32m     21\u001b[0m   \u001b[0;31m# ask questions\u001b[0m\u001b[0;34m\u001b[0m\u001b[0;34m\u001b[0m\u001b[0m\n\u001b[0;32m---> 22\u001b[0;31m   \u001b[0mresults\u001b[0m \u001b[0;34m=\u001b[0m \u001b[0mask_questions\u001b[0m\u001b[0;34m(\u001b[0m\u001b[0mcurrent_generation\u001b[0m\u001b[0;34m)\u001b[0m\u001b[0;34m\u001b[0m\u001b[0;34m\u001b[0m\u001b[0m\n\u001b[0m\u001b[1;32m     23\u001b[0m \u001b[0;34m\u001b[0m\u001b[0m\n\u001b[1;32m     24\u001b[0m   \u001b[0mprint\u001b[0m\u001b[0;34m(\u001b[0m\u001b[0;34m'----CALCULATING FITNESS SCORES----'\u001b[0m\u001b[0;34m)\u001b[0m\u001b[0;34m\u001b[0m\u001b[0;34m\u001b[0m\u001b[0m\n",
            "\u001b[0;32m<ipython-input-37-4ef00b4dbf91>\u001b[0m in \u001b[0;36mask_questions\u001b[0;34m(question_df)\u001b[0m\n\u001b[1;32m     12\u001b[0m         \u001b[0mprint\u001b[0m\u001b[0;34m(\u001b[0m\u001b[0;34mf'Difficulty: {row[\"Difficulty\"]}/10'\u001b[0m\u001b[0;34m)\u001b[0m\u001b[0;34m\u001b[0m\u001b[0;34m\u001b[0m\u001b[0m\n\u001b[1;32m     13\u001b[0m         \u001b[0;31m# get an answer from the user using the input function\u001b[0m\u001b[0;34m\u001b[0m\u001b[0;34m\u001b[0m\u001b[0m\n\u001b[0;32m---> 14\u001b[0;31m         \u001b[0muser_answer\u001b[0m \u001b[0;34m=\u001b[0m \u001b[0minput\u001b[0m\u001b[0;34m(\u001b[0m\u001b[0;34m)\u001b[0m\u001b[0;34m\u001b[0m\u001b[0;34m\u001b[0m\u001b[0m\n\u001b[0m\u001b[1;32m     15\u001b[0m         \u001b[0;31m# check if the answer is correct\u001b[0m\u001b[0;34m\u001b[0m\u001b[0;34m\u001b[0m\u001b[0m\n\u001b[1;32m     16\u001b[0m         \u001b[0manswer\u001b[0m \u001b[0;34m=\u001b[0m \u001b[0mrow\u001b[0m\u001b[0;34m[\u001b[0m\u001b[0;34m'Answer'\u001b[0m\u001b[0;34m]\u001b[0m\u001b[0;34m.\u001b[0m\u001b[0mlower\u001b[0m\u001b[0;34m(\u001b[0m\u001b[0;34m)\u001b[0m\u001b[0;34m.\u001b[0m\u001b[0mstrip\u001b[0m\u001b[0;34m(\u001b[0m\u001b[0;34m'\"'\u001b[0m\u001b[0;34m)\u001b[0m\u001b[0;34m\u001b[0m\u001b[0;34m\u001b[0m\u001b[0m\n",
            "\u001b[0;32m/usr/local/lib/python3.9/dist-packages/ipykernel/kernelbase.py\u001b[0m in \u001b[0;36mraw_input\u001b[0;34m(self, prompt)\u001b[0m\n\u001b[1;32m    849\u001b[0m                 \u001b[0;34m\"raw_input was called, but this frontend does not support input requests.\"\u001b[0m\u001b[0;34m\u001b[0m\u001b[0;34m\u001b[0m\u001b[0m\n\u001b[1;32m    850\u001b[0m             )\n\u001b[0;32m--> 851\u001b[0;31m         return self._input_request(str(prompt),\n\u001b[0m\u001b[1;32m    852\u001b[0m             \u001b[0mself\u001b[0m\u001b[0;34m.\u001b[0m\u001b[0m_parent_ident\u001b[0m\u001b[0;34m,\u001b[0m\u001b[0;34m\u001b[0m\u001b[0;34m\u001b[0m\u001b[0m\n\u001b[1;32m    853\u001b[0m             \u001b[0mself\u001b[0m\u001b[0;34m.\u001b[0m\u001b[0m_parent_header\u001b[0m\u001b[0;34m,\u001b[0m\u001b[0;34m\u001b[0m\u001b[0;34m\u001b[0m\u001b[0m\n",
            "\u001b[0;32m/usr/local/lib/python3.9/dist-packages/ipykernel/kernelbase.py\u001b[0m in \u001b[0;36m_input_request\u001b[0;34m(self, prompt, ident, parent, password)\u001b[0m\n\u001b[1;32m    893\u001b[0m             \u001b[0;32mexcept\u001b[0m \u001b[0mKeyboardInterrupt\u001b[0m\u001b[0;34m:\u001b[0m\u001b[0;34m\u001b[0m\u001b[0;34m\u001b[0m\u001b[0m\n\u001b[1;32m    894\u001b[0m                 \u001b[0;31m# re-raise KeyboardInterrupt, to truncate traceback\u001b[0m\u001b[0;34m\u001b[0m\u001b[0;34m\u001b[0m\u001b[0m\n\u001b[0;32m--> 895\u001b[0;31m                 \u001b[0;32mraise\u001b[0m \u001b[0mKeyboardInterrupt\u001b[0m\u001b[0;34m(\u001b[0m\u001b[0;34m\"Interrupted by user\"\u001b[0m\u001b[0;34m)\u001b[0m \u001b[0;32mfrom\u001b[0m \u001b[0;32mNone\u001b[0m\u001b[0;34m\u001b[0m\u001b[0;34m\u001b[0m\u001b[0m\n\u001b[0m\u001b[1;32m    896\u001b[0m             \u001b[0;32mexcept\u001b[0m \u001b[0mException\u001b[0m \u001b[0;32mas\u001b[0m \u001b[0me\u001b[0m\u001b[0;34m:\u001b[0m\u001b[0;34m\u001b[0m\u001b[0;34m\u001b[0m\u001b[0m\n\u001b[1;32m    897\u001b[0m                 \u001b[0mself\u001b[0m\u001b[0;34m.\u001b[0m\u001b[0mlog\u001b[0m\u001b[0;34m.\u001b[0m\u001b[0mwarning\u001b[0m\u001b[0;34m(\u001b[0m\u001b[0;34m\"Invalid Message:\"\u001b[0m\u001b[0;34m,\u001b[0m \u001b[0mexc_info\u001b[0m\u001b[0;34m=\u001b[0m\u001b[0;32mTrue\u001b[0m\u001b[0;34m)\u001b[0m\u001b[0;34m\u001b[0m\u001b[0;34m\u001b[0m\u001b[0m\n",
            "\u001b[0;31mKeyboardInterrupt\u001b[0m: Interrupted by user"
          ]
        }
      ],
      "source": [
        "# colab formatting\n",
        "pd.set_option('max_colwidth', 400)\n",
        "pd.set_option('display.expand_frame_repr', False)\n",
        "\n",
        "# generate initial question set based on a dictionary containiing the current level of understanding\n",
        "global_knowledge_level = {'Algebra':0.8,'Geometry':0.8,'Numbers':0.2,'Probability':0.5,'Ratios':0.2}\n",
        "\n",
        "# Get initial question set based on global knowledge dictionary\n",
        "initial_questions = generate_initial_questions(global_knowledge_level)\n",
        "\n",
        "# set initial qustions to current gen\n",
        "current_generation = initial_questions\n",
        "print('Initialised Question Set Based on Current Understanding')\n",
        "print('-------------------------------------------------------')\n",
        "print(current_generation[['Topic','Difficulty']])\n",
        "generation_count = 1\n",
        "\n",
        "while True:\n",
        "\n",
        "  print(f'-----------------Generation {generation_count}-----------------')\n",
        "  # ask questions\n",
        "  results = ask_questions(current_generation)\n",
        "\n",
        "  print('----CALCULATING FITNESS SCORES----')\n",
        "  # calculate fitness score\n",
        "  fitness_scores = [fitness_function(difficulty, marks) for difficulty, marks in zip(current_generation.Difficulty.tolist(), results)]\n",
        "  \n",
        "  \n",
        "  # selection \n",
        "  selection_df = selection(fitness_scores,current_generation.Topic)\n",
        "  \n",
        "  print(selection_df)\n",
        "\n",
        "  \n",
        "  print('------CREATING NEW QUESTION SET------')\n",
        "  # generational_replacemment \n",
        "  # update current_generation\n",
        "  current_generation = generational_replacement(selection_df)\n",
        "  print('---------APPLYING MUTATION---------')\n",
        "  current_generation = mutation(current_generation)\n",
        "  generation_count += 1 \n",
        "\n",
        "\n"
      ]
    }
  ],
  "metadata": {
    "colab": {
      "provenance": [],
      "authorship_tag": "ABX9TyON2tl9Y/L+u4DD9QKpG1vu",
      "include_colab_link": true
    },
    "kernelspec": {
      "display_name": "Python 3",
      "name": "python3"
    },
    "language_info": {
      "name": "python"
    }
  },
  "nbformat": 4,
  "nbformat_minor": 0
}